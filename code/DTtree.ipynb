{
 "cells": [
  {
   "cell_type": "code",
   "execution_count": 1,
   "metadata": {},
   "outputs": [],
   "source": [
    "import pandas as pd\n",
    "import numpy as np\n",
    "import matplotlib.pyplot as plt\n",
    "from sklearn.tree import DecisionTreeClassifier\n",
    "from sklearn.tree import export_graphviz\n",
    "#from sklearn.grid_search import GridSearchCV\n",
    "#from sklearn.grid_search import RandomizedSearchCV\n",
    "#from sklearn.cross_validation import  cross_val_score\n",
    "from sklearn.model_selection import train_test_split,cross_val_score, cross_val_predict"
   ]
  },
  {
   "cell_type": "code",
   "execution_count": 2,
   "metadata": {},
   "outputs": [
    {
     "data": {
      "text/html": [
       "<div>\n",
       "<style scoped>\n",
       "    .dataframe tbody tr th:only-of-type {\n",
       "        vertical-align: middle;\n",
       "    }\n",
       "\n",
       "    .dataframe tbody tr th {\n",
       "        vertical-align: top;\n",
       "    }\n",
       "\n",
       "    .dataframe thead th {\n",
       "        text-align: right;\n",
       "    }\n",
       "</style>\n",
       "<table border=\"1\" class=\"dataframe\">\n",
       "  <thead>\n",
       "    <tr style=\"text-align: right;\">\n",
       "      <th></th>\n",
       "      <th>0</th>\n",
       "      <th>1</th>\n",
       "      <th>2</th>\n",
       "      <th>3</th>\n",
       "      <th>4</th>\n",
       "      <th>5</th>\n",
       "      <th>6</th>\n",
       "      <th>7</th>\n",
       "      <th>8</th>\n",
       "      <th>9</th>\n",
       "      <th>...</th>\n",
       "      <th>38</th>\n",
       "      <th>39</th>\n",
       "      <th>40</th>\n",
       "      <th>41</th>\n",
       "      <th>42</th>\n",
       "      <th>43</th>\n",
       "      <th>44</th>\n",
       "      <th>45</th>\n",
       "      <th>46</th>\n",
       "      <th>47</th>\n",
       "    </tr>\n",
       "  </thead>\n",
       "  <tbody>\n",
       "    <tr>\n",
       "      <th>0</th>\n",
       "      <td>0</td>\n",
       "      <td>11</td>\n",
       "      <td>4898</td>\n",
       "      <td>2.397895</td>\n",
       "      <td>8.496582</td>\n",
       "      <td>1.290442</td>\n",
       "      <td>0.448755</td>\n",
       "      <td>0.142857</td>\n",
       "      <td>0.001021</td>\n",
       "      <td>0.161109</td>\n",
       "      <td>...</td>\n",
       "      <td>0.873566</td>\n",
       "      <td>0.405138</td>\n",
       "      <td>0</td>\n",
       "      <td>0</td>\n",
       "      <td>445.272727</td>\n",
       "      <td>0.002246</td>\n",
       "      <td>193.031058</td>\n",
       "      <td>516.667634</td>\n",
       "      <td>0.818182</td>\n",
       "      <td>4</td>\n",
       "    </tr>\n",
       "    <tr>\n",
       "      <th>1</th>\n",
       "      <td>0</td>\n",
       "      <td>8</td>\n",
       "      <td>4177</td>\n",
       "      <td>2.197225</td>\n",
       "      <td>8.337349</td>\n",
       "      <td>2.496721</td>\n",
       "      <td>0.164951</td>\n",
       "      <td>0.035714</td>\n",
       "      <td>0.000239</td>\n",
       "      <td>0.049575</td>\n",
       "      <td>...</td>\n",
       "      <td>2.252626</td>\n",
       "      <td>1.084729</td>\n",
       "      <td>0</td>\n",
       "      <td>0</td>\n",
       "      <td>464.111111</td>\n",
       "      <td>0.002155</td>\n",
       "      <td>1.268723</td>\n",
       "      <td>3.233381</td>\n",
       "      <td>0.777778</td>\n",
       "      <td>3</td>\n",
       "    </tr>\n",
       "    <tr>\n",
       "      <th>2</th>\n",
       "      <td>0</td>\n",
       "      <td>7</td>\n",
       "      <td>337</td>\n",
       "      <td>1.945910</td>\n",
       "      <td>5.820083</td>\n",
       "      <td>1.532854</td>\n",
       "      <td>0.424332</td>\n",
       "      <td>0.111111</td>\n",
       "      <td>0.002967</td>\n",
       "      <td>0.133154</td>\n",
       "      <td>...</td>\n",
       "      <td>224.759840</td>\n",
       "      <td>13.685398</td>\n",
       "      <td>0</td>\n",
       "      <td>0</td>\n",
       "      <td>48.142857</td>\n",
       "      <td>0.020772</td>\n",
       "      <td>0.072978</td>\n",
       "      <td>0.053259</td>\n",
       "      <td>0.142857</td>\n",
       "      <td>2</td>\n",
       "    </tr>\n",
       "    <tr>\n",
       "      <th>3</th>\n",
       "      <td>0</td>\n",
       "      <td>23</td>\n",
       "      <td>195</td>\n",
       "      <td>3.135494</td>\n",
       "      <td>5.273000</td>\n",
       "      <td>0.558070</td>\n",
       "      <td>0.753846</td>\n",
       "      <td>0.500000</td>\n",
       "      <td>0.246154</td>\n",
       "      <td>0.253846</td>\n",
       "      <td>...</td>\n",
       "      <td>5.210239</td>\n",
       "      <td>2.057351</td>\n",
       "      <td>0</td>\n",
       "      <td>0</td>\n",
       "      <td>8.478261</td>\n",
       "      <td>0.117949</td>\n",
       "      <td>521.701463</td>\n",
       "      <td>1748.683961</td>\n",
       "      <td>0.304348</td>\n",
       "      <td>5</td>\n",
       "    </tr>\n",
       "    <tr>\n",
       "      <th>4</th>\n",
       "      <td>0</td>\n",
       "      <td>27</td>\n",
       "      <td>325</td>\n",
       "      <td>3.295837</td>\n",
       "      <td>5.783825</td>\n",
       "      <td>1.257263</td>\n",
       "      <td>0.418462</td>\n",
       "      <td>0.250000</td>\n",
       "      <td>0.116923</td>\n",
       "      <td>0.125691</td>\n",
       "      <td>...</td>\n",
       "      <td>1.072403</td>\n",
       "      <td>1.161221</td>\n",
       "      <td>0</td>\n",
       "      <td>0</td>\n",
       "      <td>12.037037</td>\n",
       "      <td>0.083077</td>\n",
       "      <td>101.594273</td>\n",
       "      <td>92.012978</td>\n",
       "      <td>0.407407</td>\n",
       "      <td>3</td>\n",
       "    </tr>\n",
       "  </tbody>\n",
       "</table>\n",
       "<p>5 rows × 48 columns</p>\n",
       "</div>"
      ],
      "text/plain": [
       "   0   1     2         3         4         5         6         7         8   \\\n",
       "0   0  11  4898  2.397895  8.496582  1.290442  0.448755  0.142857  0.001021   \n",
       "1   0   8  4177  2.197225  8.337349  2.496721  0.164951  0.035714  0.000239   \n",
       "2   0   7   337  1.945910  5.820083  1.532854  0.424332  0.111111  0.002967   \n",
       "3   0  23   195  3.135494  5.273000  0.558070  0.753846  0.500000  0.246154   \n",
       "4   0  27   325  3.295837  5.783825  1.257263  0.418462  0.250000  0.116923   \n",
       "\n",
       "         9   ...          38         39  40  41          42        43  \\\n",
       "0  0.161109  ...    0.873566   0.405138   0   0  445.272727  0.002246   \n",
       "1  0.049575  ...    2.252626   1.084729   0   0  464.111111  0.002155   \n",
       "2  0.133154  ...  224.759840  13.685398   0   0   48.142857  0.020772   \n",
       "3  0.253846  ...    5.210239   2.057351   0   0    8.478261  0.117949   \n",
       "4  0.125691  ...    1.072403   1.161221   0   0   12.037037  0.083077   \n",
       "\n",
       "           44           45        46  47  \n",
       "0  193.031058   516.667634  0.818182   4  \n",
       "1    1.268723     3.233381  0.777778   3  \n",
       "2    0.072978     0.053259  0.142857   2  \n",
       "3  521.701463  1748.683961  0.304348   5  \n",
       "4  101.594273    92.012978  0.407407   3  \n",
       "\n",
       "[5 rows x 48 columns]"
      ]
     },
     "execution_count": 2,
     "metadata": {},
     "output_type": "execute_result"
    }
   ],
   "source": [
    "def load_data(File):\n",
    "    return pd.read_csv(File,header=None,sep = ',',index_col=False)\n",
    "\n",
    "# Import The Data\n",
    "original_data= load_data(\"E:/GENG5511 research/research/dataset/F_data.csv\")\n",
    "# Take a Quick Look at the Data Structure\n",
    "original_data.head()"
   ]
  },
  {
   "cell_type": "code",
   "execution_count": 3,
   "metadata": {},
   "outputs": [],
   "source": [
    "#original_data.info()"
   ]
  },
  {
   "cell_type": "code",
   "execution_count": 4,
   "metadata": {},
   "outputs": [],
   "source": [
    "# To store purely features data from dataset\n",
    "X= original_data.iloc[:, :36].values\n",
    "\n",
    "# To store purely label from dataset\n",
    "y= original_data.iloc[:,-1]"
   ]
  },
  {
   "cell_type": "code",
   "execution_count": 5,
   "metadata": {},
   "outputs": [
    {
     "name": "stdout",
     "output_type": "stream",
     "text": [
      "Training_size: 21; Test_size: 21\n"
     ]
    }
   ],
   "source": [
    "# Split the data first Without feature scaling\n",
    "print(\"Training_size: {}; Test_size: {}\" .format(len(X),len(y)))"
   ]
  },
  {
   "cell_type": "code",
   "execution_count": null,
   "metadata": {},
   "outputs": [],
   "source": []
  },
  {
   "cell_type": "code",
   "execution_count": 6,
   "metadata": {},
   "outputs": [],
   "source": [
    "def plot_confusion_matrix(cm, number_of_instances, title=None, cmap=plt.cm.Greens):\n",
    "    \"\"\"\n",
    "    This function prints and plots the confusion matrix.\n",
    "    \"\"\"\n",
    "    fig, ax = plt.subplots(figsize=(5,5))\n",
    "    im = ax.imshow(cm, interpolation='nearest', cmap=cmap)\n",
    "    ax.figure.colorbar(im, ax=ax)\n",
    "    # We want to show all ticks...\n",
    "    ax.set(xticks=np.arange(cm.shape[1]), yticks=np.arange(cm.shape[0]),\n",
    "           # ... and label them with the respective list entries\n",
    "           xticklabels=number_of_instances, yticklabels=number_of_instances, title=title,\n",
    "               ylabel='True label', xlabel='Predicted label')\n",
    "\n",
    "    # Rotate the tick labels and set their alignment.\n",
    "    plt.setp(ax.get_xticklabels(), rotation=0, ha=\"right\", rotation_mode=\"anchor\")\n",
    "\n",
    "    # Loop over data dimensions and create text annotations.\n",
    "    thresh = cm.max() / 2.\n",
    "    for i in range(cm.shape[0]):\n",
    "        for j in range(cm.shape[1]):\n",
    "            ax.text(j, i, format(cm[i, j], \"d\"),\n",
    "                    ha=\"center\", va=\"center\",\n",
    "                    color=\"white\" if cm[i, j] > thresh else \"black\")\n",
    "    fig.tight_layout()\n",
    "    return ax"
   ]
  },
  {
   "cell_type": "code",
   "execution_count": 7,
   "metadata": {},
   "outputs": [],
   "source": [
    "# compute different scores for performance measurements\n",
    "def evaluation(groundtruth, prediction):\n",
    "    AccuracyScore=accuracy_score(groundtruth, prediction)\n",
    "    #'weighted' take label imbalance into account.  \n",
    "    F1Score=f1_score(groundtruth, prediction,average='macro') \n",
    "    ConfusionMatrix=confusion_matrix(groundtruth, prediction)\n",
    "    return AccuracyScore,F1Score,ConfusionMatrix;"
   ]
  },
  {
   "cell_type": "code",
   "execution_count": null,
   "metadata": {},
   "outputs": [],
   "source": []
  },
  {
   "cell_type": "code",
   "execution_count": 8,
   "metadata": {},
   "outputs": [
    {
     "name": "stdout",
     "output_type": "stream",
     "text": [
      "对应特征的标记（是否被选中）：\n",
      "[False False False False  True False  True  True  True  True  True  True\n",
      " False False False False False False False False  True  True False False\n",
      "  True  True  True  True  True  True  True  True  True False False False]\n"
     ]
    }
   ],
   "source": [
    "from sklearn import datasets\n",
    "from sklearn.feature_selection import RFE  #RFECV:带交叉验证的递归特征移除\n",
    "from sklearn.svm import SVC\n",
    "#start = time.clock()\n",
    "#dataset = original_data # laod iris dataset\n",
    "#tree_clf = DecisionTreeClassifier(random_state=42)\n",
    "model = DecisionTreeClassifier() # build SVC model\n",
    "\n",
    "rfe = RFE(model,step=1) # limit number of variables to three\n",
    "rfe = rfe.fit(X,y)\n",
    "print('对应特征的标记（是否被选中）：')\n",
    "print(rfe.support_)\n",
    "\n",
    "#end = time.clock()\n",
    "#print(end-start)"
   ]
  },
  {
   "cell_type": "code",
   "execution_count": 9,
   "metadata": {},
   "outputs": [
    {
     "data": {
      "text/html": [
       "<div>\n",
       "<style scoped>\n",
       "    .dataframe tbody tr th:only-of-type {\n",
       "        vertical-align: middle;\n",
       "    }\n",
       "\n",
       "    .dataframe tbody tr th {\n",
       "        vertical-align: top;\n",
       "    }\n",
       "\n",
       "    .dataframe thead th {\n",
       "        text-align: right;\n",
       "    }\n",
       "</style>\n",
       "<table border=\"1\" class=\"dataframe\">\n",
       "  <thead>\n",
       "    <tr style=\"text-align: right;\">\n",
       "      <th></th>\n",
       "      <th>4</th>\n",
       "      <th>6</th>\n",
       "      <th>7</th>\n",
       "      <th>8</th>\n",
       "      <th>9</th>\n",
       "      <th>10</th>\n",
       "      <th>11</th>\n",
       "      <th>20</th>\n",
       "      <th>21</th>\n",
       "      <th>22</th>\n",
       "      <th>...</th>\n",
       "      <th>26</th>\n",
       "      <th>27</th>\n",
       "      <th>28</th>\n",
       "      <th>29</th>\n",
       "      <th>30</th>\n",
       "      <th>31</th>\n",
       "      <th>32</th>\n",
       "      <th>33</th>\n",
       "      <th>34</th>\n",
       "      <th>35</th>\n",
       "    </tr>\n",
       "  </thead>\n",
       "  <tbody>\n",
       "    <tr>\n",
       "      <th>0</th>\n",
       "      <td>8.496582</td>\n",
       "      <td>0.448755</td>\n",
       "      <td>0.142857</td>\n",
       "      <td>0.001021</td>\n",
       "      <td>0.161109</td>\n",
       "      <td>0.814074</td>\n",
       "      <td>1.228389</td>\n",
       "      <td>226.683928</td>\n",
       "      <td>2308.0</td>\n",
       "      <td>0.0</td>\n",
       "      <td>...</td>\n",
       "      <td>0.0</td>\n",
       "      <td>0.0</td>\n",
       "      <td>0.0</td>\n",
       "      <td>0.0</td>\n",
       "      <td>0.0</td>\n",
       "      <td>0.400610</td>\n",
       "      <td>0.448759</td>\n",
       "      <td>0.413514</td>\n",
       "      <td>0.521284</td>\n",
       "      <td>0.439526</td>\n",
       "    </tr>\n",
       "    <tr>\n",
       "      <th>1</th>\n",
       "      <td>8.337349</td>\n",
       "      <td>0.164951</td>\n",
       "      <td>0.035714</td>\n",
       "      <td>0.000239</td>\n",
       "      <td>0.049575</td>\n",
       "      <td>0.197534</td>\n",
       "      <td>5.062409</td>\n",
       "      <td>799.825506</td>\n",
       "      <td>6077.0</td>\n",
       "      <td>0.0</td>\n",
       "      <td>...</td>\n",
       "      <td>0.0</td>\n",
       "      <td>0.0</td>\n",
       "      <td>0.0</td>\n",
       "      <td>0.0</td>\n",
       "      <td>0.0</td>\n",
       "      <td>0.997904</td>\n",
       "      <td>0.316833</td>\n",
       "      <td>0.997910</td>\n",
       "      <td>0.259061</td>\n",
       "      <td>0.998146</td>\n",
       "    </tr>\n",
       "    <tr>\n",
       "      <th>2</th>\n",
       "      <td>5.820083</td>\n",
       "      <td>0.424332</td>\n",
       "      <td>0.111111</td>\n",
       "      <td>0.002967</td>\n",
       "      <td>0.133154</td>\n",
       "      <td>0.737113</td>\n",
       "      <td>1.356643</td>\n",
       "      <td>32.449647</td>\n",
       "      <td>370.0</td>\n",
       "      <td>0.0</td>\n",
       "      <td>...</td>\n",
       "      <td>0.0</td>\n",
       "      <td>0.0</td>\n",
       "      <td>0.0</td>\n",
       "      <td>0.0</td>\n",
       "      <td>0.0</td>\n",
       "      <td>0.806002</td>\n",
       "      <td>0.630903</td>\n",
       "      <td>0.812157</td>\n",
       "      <td>0.854080</td>\n",
       "      <td>0.745025</td>\n",
       "    </tr>\n",
       "    <tr>\n",
       "      <th>3</th>\n",
       "      <td>5.273000</td>\n",
       "      <td>0.753846</td>\n",
       "      <td>0.500000</td>\n",
       "      <td>0.246154</td>\n",
       "      <td>0.253846</td>\n",
       "      <td>3.062500</td>\n",
       "      <td>0.326531</td>\n",
       "      <td>51.012545</td>\n",
       "      <td>3916.0</td>\n",
       "      <td>0.0</td>\n",
       "      <td>...</td>\n",
       "      <td>0.0</td>\n",
       "      <td>0.0</td>\n",
       "      <td>0.0</td>\n",
       "      <td>0.0</td>\n",
       "      <td>0.0</td>\n",
       "      <td>0.773977</td>\n",
       "      <td>1.000000</td>\n",
       "      <td>1.000000</td>\n",
       "      <td>0.810906</td>\n",
       "      <td>1.000000</td>\n",
       "    </tr>\n",
       "    <tr>\n",
       "      <th>4</th>\n",
       "      <td>5.783825</td>\n",
       "      <td>0.418462</td>\n",
       "      <td>0.250000</td>\n",
       "      <td>0.116923</td>\n",
       "      <td>0.125691</td>\n",
       "      <td>0.719577</td>\n",
       "      <td>1.389706</td>\n",
       "      <td>109.717482</td>\n",
       "      <td>5274.0</td>\n",
       "      <td>0.0</td>\n",
       "      <td>...</td>\n",
       "      <td>0.0</td>\n",
       "      <td>0.0</td>\n",
       "      <td>0.0</td>\n",
       "      <td>0.0</td>\n",
       "      <td>0.0</td>\n",
       "      <td>0.809205</td>\n",
       "      <td>0.659514</td>\n",
       "      <td>0.781595</td>\n",
       "      <td>0.854602</td>\n",
       "      <td>0.803179</td>\n",
       "    </tr>\n",
       "  </tbody>\n",
       "</table>\n",
       "<p>5 rows × 23 columns</p>\n",
       "</div>"
      ],
      "text/plain": [
       "         4         6         7         8         9         10        11  \\\n",
       "0  8.496582  0.448755  0.142857  0.001021  0.161109  0.814074  1.228389   \n",
       "1  8.337349  0.164951  0.035714  0.000239  0.049575  0.197534  5.062409   \n",
       "2  5.820083  0.424332  0.111111  0.002967  0.133154  0.737113  1.356643   \n",
       "3  5.273000  0.753846  0.500000  0.246154  0.253846  3.062500  0.326531   \n",
       "4  5.783825  0.418462  0.250000  0.116923  0.125691  0.719577  1.389706   \n",
       "\n",
       "           20      21   22  ...   26   27   28   29   30        31        32  \\\n",
       "0  226.683928  2308.0  0.0  ...  0.0  0.0  0.0  0.0  0.0  0.400610  0.448759   \n",
       "1  799.825506  6077.0  0.0  ...  0.0  0.0  0.0  0.0  0.0  0.997904  0.316833   \n",
       "2   32.449647   370.0  0.0  ...  0.0  0.0  0.0  0.0  0.0  0.806002  0.630903   \n",
       "3   51.012545  3916.0  0.0  ...  0.0  0.0  0.0  0.0  0.0  0.773977  1.000000   \n",
       "4  109.717482  5274.0  0.0  ...  0.0  0.0  0.0  0.0  0.0  0.809205  0.659514   \n",
       "\n",
       "         33        34        35  \n",
       "0  0.413514  0.521284  0.439526  \n",
       "1  0.997910  0.259061  0.998146  \n",
       "2  0.812157  0.854080  0.745025  \n",
       "3  1.000000  0.810906  1.000000  \n",
       "4  0.781595  0.854602  0.803179  \n",
       "\n",
       "[5 rows x 23 columns]"
      ]
     },
     "execution_count": 9,
     "metadata": {},
     "output_type": "execute_result"
    }
   ],
   "source": [
    "import pandas as pd\n",
    "import numpy as np\n",
    "#x=[0,2,3,6,7,9,11,12,15,18,22,23,24,25]\n",
    "N = rfe.support_\n",
    "N[N==True] = 1\n",
    "N[N==False] = 0\n",
    "x=[]\n",
    "for i in range(0, len(X)):\n",
    "    if(N[i]==0):\n",
    "        x.append(i)\n",
    "#print(x)\n",
    "df = pd.DataFrame(X)\n",
    "#print(df)\n",
    "X_new = df.drop(df.columns[x],axis=1)\n",
    "X_new.head(5)"
   ]
  },
  {
   "cell_type": "code",
   "execution_count": null,
   "metadata": {},
   "outputs": [],
   "source": []
  },
  {
   "cell_type": "code",
   "execution_count": 10,
   "metadata": {},
   "outputs": [],
   "source": [
    "from sklearn.metrics import accuracy_score, f1_score ,confusion_matrix"
   ]
  },
  {
   "cell_type": "code",
   "execution_count": 11,
   "metadata": {},
   "outputs": [],
   "source": [
    "from sklearn.model_selection import train_test_split\n",
    "# splitting the dataset - dataset still contains class label\n",
    "X_train, X_test, Y_train, Y_test = train_test_split(X_new, y, test_size=0.25, random_state=30)"
   ]
  },
  {
   "cell_type": "code",
   "execution_count": 12,
   "metadata": {},
   "outputs": [
    {
     "name": "stdout",
     "output_type": "stream",
     "text": [
      " For trainingset in default decision tree classifier: \n",
      " Accuracy score:   0.3333333333333333 \n",
      " F1 score:  0.2333333333333333 \n",
      " Confusion matrix: \n",
      " [[1 0 0 1 0]\n",
      " [0 0 0 1 0]\n",
      " [0 0 0 0 1]\n",
      " [1 0 0 0 0]\n",
      " [0 0 0 0 1]]\n"
     ]
    },
    {
     "name": "stderr",
     "output_type": "stream",
     "text": [
      "D:\\Anaconda\\lib\\site-packages\\sklearn\\metrics\\classification.py:1437: UndefinedMetricWarning: F-score is ill-defined and being set to 0.0 in labels with no predicted samples.\n",
      "  'precision', 'predicted', average, warn_for)\n"
     ]
    }
   ],
   "source": [
    "# use Defualt decision tree classifier\n",
    "tree_clf = DecisionTreeClassifier(random_state=42)\n",
    "tree_clf.fit(X_train, Y_train)\n",
    "\n",
    "# Storing the label from prediction for the whole testing set\n",
    "dt_pred=tree_clf.predict(X_test)\n",
    "\n",
    "# some performance measurements\n",
    "df_Accuracy_score,df_F1_score,df_Confusion_matrix = evaluation(Y_test,dt_pred)\n",
    "print(\" For trainingset in default decision tree classifier: \\n\" ,\"Accuracy score:  \",df_Accuracy_score,\"\\n\",\"F1 score: \",df_F1_score, \"\\n\",\"Confusion matrix: \\n\",df_Confusion_matrix)"
   ]
  },
  {
   "cell_type": "code",
   "execution_count": 13,
   "metadata": {},
   "outputs": [
    {
     "data": {
      "image/png": "[encoded data removed]",
      "text/plain": [
       "<Figure size 360x360 with 2 Axes>"
      ]
     },
     "metadata": {
      "needs_background": "light"
     },
     "output_type": "display_data"
    }
   ],
   "source": [
    "plot_confusion_matrix(df_Confusion_matrix,Y_test,title=\"Confusion Matrix\")\n",
    "plt.savefig('./11.jpg')"
   ]
  },
  {
   "cell_type": "code",
   "execution_count": null,
   "metadata": {},
   "outputs": [],
   "source": []
  },
  {
   "cell_type": "code",
   "execution_count": 14,
   "metadata": {},
   "outputs": [],
   "source": [
    "# show discription for cross-validation\n",
    "def display_scores(scores):\n",
    "    print(\"Scores:\",scores)\n",
    "    print(\"Mean:\",scores.mean())\n",
    "    print(\"Standard deviation\", scores.std())"
   ]
  },
  {
   "cell_type": "code",
   "execution_count": 15,
   "metadata": {},
   "outputs": [
    {
     "name": "stdout",
     "output_type": "stream",
     "text": [
      "Scores: [0.375      0.14285714 0.66666667]\n",
      "Mean: 0.39484126984126977\n",
      "Standard deviation 0.21430408504439913\n"
     ]
    },
    {
     "name": "stderr",
     "output_type": "stream",
     "text": [
      "D:\\Anaconda\\lib\\site-packages\\sklearn\\model_selection\\_split.py:657: Warning: The least populated class in y has only 2 members, which is too few. The minimum number of members in any class cannot be less than n_splits=3.\n",
      "  % (min_groups, self.n_splits)), Warning)\n"
     ]
    }
   ],
   "source": [
    "dt_old = DecisionTreeClassifier(min_samples_split=10,random_state=2)\n",
    "dt_old.fit(X, y)\n",
    "scores = cross_val_score(dt_old, X, y, cv=3)\n",
    "display_scores(scores)"
   ]
  },
  {
   "cell_type": "code",
   "execution_count": null,
   "metadata": {},
   "outputs": [],
   "source": []
  },
  {
   "cell_type": "code",
   "execution_count": 16,
   "metadata": {},
   "outputs": [
    {
     "name": "stdout",
     "output_type": "stream",
     "text": [
      " For training set with default decision tree classifier: \n",
      " Show cross validation prediction score: \n",
      " Accuracy score:   0.38095238095238093 \n",
      " F1 score:  0.2546031746031746 \n",
      " Confusion matrix: \n",
      " [[3 0 4 0 0]\n",
      " [1 0 1 0 0]\n",
      " [1 0 4 1 0]\n",
      " [1 0 1 1 0]\n",
      " [1 0 2 0 0]] \n",
      "\n"
     ]
    },
    {
     "name": "stderr",
     "output_type": "stream",
     "text": [
      "D:\\Anaconda\\lib\\site-packages\\sklearn\\model_selection\\_split.py:657: Warning: The least populated class in y has only 2 members, which is too few. The minimum number of members in any class cannot be less than n_splits=3.\n",
      "  % (min_groups, self.n_splits)), Warning)\n",
      "D:\\Anaconda\\lib\\site-packages\\sklearn\\metrics\\classification.py:1437: UndefinedMetricWarning: F-score is ill-defined and being set to 0.0 in labels with no predicted samples.\n",
      "  'precision', 'predicted', average, warn_for)\n"
     ]
    }
   ],
   "source": [
    "# check other score on train..\n",
    "dt_cs_pred=cross_val_predict(dt_old, X, y, cv=3)\n",
    "# some performance measurements\n",
    "df_Accuracy_score,df_F1_score,df_Confusion_matrix = evaluation(y,dt_cs_pred)\n",
    "print(\" For training set with default decision tree classifier: \\n Show cross validation prediction score: \\n\" ,\"Accuracy score:  \",df_Accuracy_score,\"\\n\",\"F1 score: \",df_F1_score, \"\\n\",\"Confusion matrix: \\n\",df_Confusion_matrix ,\"\\n\")"
   ]
  },
  {
   "cell_type": "code",
   "execution_count": 17,
   "metadata": {},
   "outputs": [
    {
     "data": {
      "image/png": "[encoded data removed]",
      "text/plain": [
       "<Figure size 360x360 with 2 Axes>"
      ]
     },
     "metadata": {
      "needs_background": "light"
     },
     "output_type": "display_data"
    }
   ],
   "source": [
    "plot_confusion_matrix(df_Confusion_matrix,Y_test,title=\"Confusion Matrix\")\n",
    "plt.savefig('./12.jpg')"
   ]
  }
 ],
 "metadata": {
  "kernelspec": {
   "display_name": "Python 3",
   "language": "python",
   "name": "python3"
  },
  "language_info": {
   "codemirror_mode": {
    "name": "ipython",
    "version": 3
   },
   "file_extension": ".py",
   "mimetype": "text/x-python",
   "name": "python",
   "nbconvert_exporter": "python",
   "pygments_lexer": "ipython3",
   "version": "3.7.3"
  }
 },
 "nbformat": 4,
 "nbformat_minor": 2
}
